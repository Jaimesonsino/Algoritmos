{
  "nbformat": 4,
  "nbformat_minor": 0,
  "metadata": {
    "colab": {
      "provenance": []
    },
    "kernelspec": {
      "name": "python3",
      "display_name": "Python 3"
    },
    "language_info": {
      "name": "python"
    }
  },
  "cells": [
    {
      "cell_type": "code",
      "execution_count": null,
      "metadata": {
        "id": "4qrnv4hgV3tW"
      },
      "outputs": [],
      "source": [
        "# prompt: soy estudiante y estoy amprendiendo python. dime que es\n",
        "\n",
        "Python es un lenguaje de programación de alto nivel, interpretado, interactivo y orientado a objetos.  Es conocido por su sintaxis clara y legible, lo que lo hace ideal para principiantes.  Pero no te dejes engañar por su aparente simplicidad, Python es un lenguaje poderoso usado en una amplia variedad de aplicaciones, incluyendo:\n",
        "\n",
        "* **Desarrollo web:**  Python se usa para crear servidores web, aplicaciones web y sitios web.  Frameworks populares como Django y Flask facilitan el desarrollo web con Python.\n",
        "\n",
        "* **Ciencia de datos y Machine Learning:**  Python es el lenguaje dominante en ciencia de datos gracias a librerías como NumPy, Pandas, Scikit-learn y TensorFlow.  Estas herramientas permiten el análisis de datos, la visualización y la creación de modelos de aprendizaje automático.\n",
        "\n",
        "* **Automatización de tareas:**  Python es excelente para automatizar tareas repetitivas en tu computadora, como renombrar archivos en masa, procesar datos o interactuar con otros programas.\n",
        "\n",
        "* **Desarrollo de juegos:**  Aunque no es tan popular como otros lenguajes para juegos, Python se usa para desarrollar juegos, especialmente prototipos o juegos más simples.\n",
        "\n",
        "* **Scripting:** Python puede usarse para crear scripts que realicen una variedad de tareas, desde automatización de sistemas hasta procesamiento de texto.\n",
        "\n",
        "* **Desarrollo de aplicaciones de escritorio:**  Python permite crear aplicaciones con interfaz gráfica de usuario (GUI). Librerías como Tkinter, PyQt y Kivy facilitan este tipo de desarrollo.\n",
        "\n",
        "\n",
        "**¿Por qué aprender Python?**\n",
        "\n",
        "* **Fácil de aprender:** Su sintaxis es similar al idioma inglés, lo que lo hace más fácil de leer y escribir que otros lenguajes.\n",
        "* **Gran comunidad:**  Hay una enorme comunidad de desarrolladores de Python que te pueden ayudar si tienes problemas o dudas.  Encuentras mucha documentación, tutoriales y foros online.\n",
        "* **Mucha demanda:** La demanda de desarrolladores de Python es alta en el mercado laboral.\n",
        "* **Versatilidad:**  Puedes usar Python para una gran variedad de proyectos.\n",
        "\n",
        "**Para empezar:**\n",
        "\n",
        "Te recomiendo buscar tutoriales en línea, como los de Codecademy, Google's Python Class, o seguir cursos en plataformas como Coursera o edX.  También puedes descargar un intérprete de Python (Python 3 recomendado) y empezar a experimentar con el lenguaje desde tu computadora.  ¡No tengas miedo de probar y experimentar!  La mejor manera de aprender a programar es programando.\n",
        "\n",
        "¡Mucha suerte en tu aprendizaje!\n",
        "---\n",
        "\n"
      ]
    },
    {
      "cell_type": "markdown",
      "source": [
        "### Algunos objetos en Python\n",
        "### Números y strings\n",
        "\n",
        "\n",
        "*   int, float\n",
        "*   str\n",
        "\n",
        "Nota: Es posible escribir Latex\n",
        "La siguinete integral es de gran importancia\n",
        "$$\\int_{-∞}^{∞}e^{-\\frac{x^2}{2}}dx=\\sqrt{2\\pi}$$\n",
        "\n",
        "\n",
        "\n",
        "Operaciones básicas entre números\n",
        "\n",
        "1.   -$+,-$\n",
        "2.   -$*,**$\n",
        "3. $-/,//$\n",
        "4. $\\%$\n",
        "\n",
        "\n",
        "**texto en negrita**\n",
        "\n"
      ],
      "metadata": {
        "id": "nsIIa-C6pl0l"
      }
    },
    {
      "cell_type": "markdown",
      "source": [
        "Introduccióna a Python"
      ],
      "metadata": {
        "id": "8wjGToVNpAKQ"
      }
    },
    {
      "cell_type": "code",
      "source": [
        "5*65\n",
        "\n"
      ],
      "metadata": {
        "colab": {
          "base_uri": "https://localhost:8080/"
        },
        "id": "HHV1T3pVvbW3",
        "outputId": "a403ad4d-9c92-486b-8d4e-acb9c252407a"
      },
      "execution_count": 1,
      "outputs": [
        {
          "output_type": "execute_result",
          "data": {
            "text/plain": [
              "325"
            ]
          },
          "metadata": {},
          "execution_count": 1
        }
      ]
    },
    {
      "cell_type": "markdown",
      "source": [
        "## Listas\n",
        "Una lista es un objeto de la forma:\n",
        "$$ \\text{Lista}={e_1,e_2,...;e_n}$$\n",
        "Cada elemento puede ser, a su vez, un objeto."
      ],
      "metadata": {
        "id": "wq1UUJmAV0oB"
      }
    },
    {
      "cell_type": "code",
      "source": [
        "# Vamos a crear una lista\n",
        "Lista_1=[7, 7.7, \"victoria\", {1,2,3}]\n",
        "\n"
      ],
      "metadata": {
        "id": "JIPZJ4asXEfw"
      },
      "execution_count": 4,
      "outputs": []
    },
    {
      "cell_type": "code",
      "source": [
        "type(Lista_1)"
      ],
      "metadata": {
        "colab": {
          "base_uri": "https://localhost:8080/"
        },
        "id": "SAZypb3-YXhu",
        "outputId": "8a3a10ef-1b0e-4edf-e8d4-a6428adef01b"
      },
      "execution_count": 6,
      "outputs": [
        {
          "output_type": "execute_result",
          "data": {
            "text/plain": [
              "list"
            ]
          },
          "metadata": {},
          "execution_count": 6
        }
      ]
    },
    {
      "cell_type": "code",
      "source": [],
      "metadata": {
        "id": "LdOXxGNYZGNz"
      },
      "execution_count": null,
      "outputs": []
    },
    {
      "cell_type": "markdown",
      "source": [
        "### Etiquetas en Python\n",
        "En Python existe una función que se llama range(a,b) en donde $a$ y $b$ son enteros mayores o iguales a 0. Aquí, $a<b$.\n",
        "\n"
      ],
      "metadata": {
        "id": "vfZNIbqXZYSy"
      }
    },
    {
      "cell_type": "code",
      "source": [
        "type(range(57)) # GEnerador de índices (o etiquetas)"
      ],
      "metadata": {
        "colab": {
          "base_uri": "https://localhost:8080/"
        },
        "id": "3p_66bm8aYq9",
        "outputId": "1bcf1623-c85e-486e-f021-819a0b808728"
      },
      "execution_count": 8,
      "outputs": [
        {
          "output_type": "execute_result",
          "data": {
            "text/plain": [
              "range"
            ]
          },
          "metadata": {},
          "execution_count": 8
        }
      ]
    },
    {
      "cell_type": "code",
      "source": [
        "for i in range(57):\n",
        " print(i)"
      ],
      "metadata": {
        "colab": {
          "base_uri": "https://localhost:8080/"
        },
        "id": "tYZtZm3SbVSG",
        "outputId": "4dd87692-c113-40bf-bf73-960af9c2863b"
      },
      "execution_count": 14,
      "outputs": [
        {
          "output_type": "stream",
          "name": "stdout",
          "text": [
            "0\n",
            "1\n",
            "2\n",
            "3\n",
            "4\n",
            "5\n",
            "6\n",
            "7\n",
            "8\n",
            "9\n",
            "10\n",
            "11\n",
            "12\n",
            "13\n",
            "14\n",
            "15\n",
            "16\n",
            "17\n",
            "18\n",
            "19\n",
            "20\n",
            "21\n",
            "22\n",
            "23\n",
            "24\n",
            "25\n",
            "26\n",
            "27\n",
            "28\n",
            "29\n",
            "30\n",
            "31\n",
            "32\n",
            "33\n",
            "34\n",
            "35\n",
            "36\n",
            "37\n",
            "38\n",
            "39\n",
            "40\n",
            "41\n",
            "42\n",
            "43\n",
            "44\n",
            "45\n",
            "46\n",
            "47\n",
            "48\n",
            "49\n",
            "50\n",
            "51\n",
            "52\n",
            "53\n",
            "54\n",
            "55\n",
            "56\n"
          ]
        }
      ]
    },
    {
      "cell_type": "code",
      "source": [
        "len(Lista_1) # La función len(variable)encuenta el número de elementos que hay"
      ],
      "metadata": {
        "colab": {
          "base_uri": "https://localhost:8080/"
        },
        "id": "5bDWm1eLguCK",
        "outputId": "16a29298-eb0b-413f-e444-da426a2dac3d"
      },
      "execution_count": 31,
      "outputs": [
        {
          "output_type": "execute_result",
          "data": {
            "text/plain": [
              "4"
            ]
          },
          "metadata": {},
          "execution_count": 31
        }
      ]
    },
    {
      "cell_type": "code",
      "source": [
        "Lista_1[3], type(Lista_1[3])\n"
      ],
      "metadata": {
        "colab": {
          "base_uri": "https://localhost:8080/"
        },
        "id": "BADb_aTchkzl",
        "outputId": "1fd41448-8cf2-4fba-81dc-7c615b607dd3"
      },
      "execution_count": 40,
      "outputs": [
        {
          "output_type": "execute_result",
          "data": {
            "text/plain": [
              "({1, 2, 3}, set)"
            ]
          },
          "metadata": {},
          "execution_count": 40
        }
      ]
    },
    {
      "cell_type": "code",
      "source": [
        "Lista_1[0:3], type(Lista_1[0:3])"
      ],
      "metadata": {
        "colab": {
          "base_uri": "https://localhost:8080/"
        },
        "id": "N2vGB_jnieZg",
        "outputId": "25bd8b02-6c31-4f09-c4d6-d78a99530937"
      },
      "execution_count": 44,
      "outputs": [
        {
          "output_type": "execute_result",
          "data": {
            "text/plain": [
              "([7, 7.7, 'victoria'], list)"
            ]
          },
          "metadata": {},
          "execution_count": 44
        }
      ]
    },
    {
      "cell_type": "code",
      "source": [
        "import yfinance as yf\n",
        "import pandas as pd\n",
        "tsla=yf.download(\"AMZN\", start = \"2018-01-01\", end = \"2020-01-01\")\n",
        "print(tsla)"
      ],
      "metadata": {
        "colab": {
          "base_uri": "https://localhost:8080/"
        },
        "id": "hD4Dl-SRcTBB",
        "outputId": "fb0c1f68-d004-4d45-f8e9-0b355fec86fc"
      },
      "execution_count": 19,
      "outputs": [
        {
          "output_type": "stream",
          "name": "stderr",
          "text": [
            "\r[*********************100%***********************]  1 of 1 completed"
          ]
        },
        {
          "output_type": "stream",
          "name": "stdout",
          "text": [
            "Price           Close       High        Low       Open     Volume\n",
            "Ticker           AMZN       AMZN       AMZN       AMZN       AMZN\n",
            "Date                                                             \n",
            "2018-01-02  59.450500  59.500000  58.525501  58.599998   53890000\n",
            "2018-01-03  60.209999  60.274502  59.415001  59.415001   62176000\n",
            "2018-01-04  60.479500  60.793499  60.233002  60.250000   60442000\n",
            "2018-01-05  61.457001  61.457001  60.500000  60.875500   70894000\n",
            "2018-01-08  62.343498  62.653999  61.601501  61.799999   85590000\n",
            "...               ...        ...        ...        ...        ...\n",
            "2019-12-24  89.460503  89.778503  89.378998  89.690498   17626000\n",
            "2019-12-26  93.438499  93.523003  89.974998  90.050499  120108000\n",
            "2019-12-27  93.489998  95.070000  93.300499  94.146004  123732000\n",
            "2019-12-30  92.344498  94.199997  92.030998  93.699997   73494000\n",
            "2019-12-31  92.391998  92.663002  91.611504  92.099998   50130000\n",
            "\n",
            "[503 rows x 5 columns]\n"
          ]
        },
        {
          "output_type": "stream",
          "name": "stderr",
          "text": [
            "\n"
          ]
        }
      ]
    },
    {
      "cell_type": "code",
      "source": [
        "tsla[\"High\"]"
      ],
      "metadata": {
        "colab": {
          "base_uri": "https://localhost:8080/",
          "height": 455
        },
        "id": "H8NrRUnqgAFh",
        "outputId": "3b7afec9-0b33-4dfa-e4fd-365dec61f534"
      },
      "execution_count": 24,
      "outputs": [
        {
          "output_type": "execute_result",
          "data": {
            "text/plain": [
              "Ticker           AMZN\n",
              "Date                 \n",
              "2018-01-02  59.500000\n",
              "2018-01-03  60.274502\n",
              "2018-01-04  60.793499\n",
              "2018-01-05  61.457001\n",
              "2018-01-08  62.653999\n",
              "...               ...\n",
              "2019-12-24  89.778503\n",
              "2019-12-26  93.523003\n",
              "2019-12-27  95.070000\n",
              "2019-12-30  94.199997\n",
              "2019-12-31  92.663002\n",
              "\n",
              "[503 rows x 1 columns]"
            ],
            "text/html": [
              "\n",
              "  <div id=\"df-3da72d7c-c539-4be0-9187-7ad716fe37a9\" class=\"colab-df-container\">\n",
              "    <div>\n",
              "<style scoped>\n",
              "    .dataframe tbody tr th:only-of-type {\n",
              "        vertical-align: middle;\n",
              "    }\n",
              "\n",
              "    .dataframe tbody tr th {\n",
              "        vertical-align: top;\n",
              "    }\n",
              "\n",
              "    .dataframe thead th {\n",
              "        text-align: right;\n",
              "    }\n",
              "</style>\n",
              "<table border=\"1\" class=\"dataframe\">\n",
              "  <thead>\n",
              "    <tr style=\"text-align: right;\">\n",
              "      <th>Ticker</th>\n",
              "      <th>AMZN</th>\n",
              "    </tr>\n",
              "    <tr>\n",
              "      <th>Date</th>\n",
              "      <th></th>\n",
              "    </tr>\n",
              "  </thead>\n",
              "  <tbody>\n",
              "    <tr>\n",
              "      <th>2018-01-02</th>\n",
              "      <td>59.500000</td>\n",
              "    </tr>\n",
              "    <tr>\n",
              "      <th>2018-01-03</th>\n",
              "      <td>60.274502</td>\n",
              "    </tr>\n",
              "    <tr>\n",
              "      <th>2018-01-04</th>\n",
              "      <td>60.793499</td>\n",
              "    </tr>\n",
              "    <tr>\n",
              "      <th>2018-01-05</th>\n",
              "      <td>61.457001</td>\n",
              "    </tr>\n",
              "    <tr>\n",
              "      <th>2018-01-08</th>\n",
              "      <td>62.653999</td>\n",
              "    </tr>\n",
              "    <tr>\n",
              "      <th>...</th>\n",
              "      <td>...</td>\n",
              "    </tr>\n",
              "    <tr>\n",
              "      <th>2019-12-24</th>\n",
              "      <td>89.778503</td>\n",
              "    </tr>\n",
              "    <tr>\n",
              "      <th>2019-12-26</th>\n",
              "      <td>93.523003</td>\n",
              "    </tr>\n",
              "    <tr>\n",
              "      <th>2019-12-27</th>\n",
              "      <td>95.070000</td>\n",
              "    </tr>\n",
              "    <tr>\n",
              "      <th>2019-12-30</th>\n",
              "      <td>94.199997</td>\n",
              "    </tr>\n",
              "    <tr>\n",
              "      <th>2019-12-31</th>\n",
              "      <td>92.663002</td>\n",
              "    </tr>\n",
              "  </tbody>\n",
              "</table>\n",
              "<p>503 rows × 1 columns</p>\n",
              "</div>\n",
              "    <div class=\"colab-df-buttons\">\n",
              "\n",
              "  <div class=\"colab-df-container\">\n",
              "    <button class=\"colab-df-convert\" onclick=\"convertToInteractive('df-3da72d7c-c539-4be0-9187-7ad716fe37a9')\"\n",
              "            title=\"Convert this dataframe to an interactive table.\"\n",
              "            style=\"display:none;\">\n",
              "\n",
              "  <svg xmlns=\"http://www.w3.org/2000/svg\" height=\"24px\" viewBox=\"0 -960 960 960\">\n",
              "    <path d=\"M120-120v-720h720v720H120Zm60-500h600v-160H180v160Zm220 220h160v-160H400v160Zm0 220h160v-160H400v160ZM180-400h160v-160H180v160Zm440 0h160v-160H620v160ZM180-180h160v-160H180v160Zm440 0h160v-160H620v160Z\"/>\n",
              "  </svg>\n",
              "    </button>\n",
              "\n",
              "  <style>\n",
              "    .colab-df-container {\n",
              "      display:flex;\n",
              "      gap: 12px;\n",
              "    }\n",
              "\n",
              "    .colab-df-convert {\n",
              "      background-color: #E8F0FE;\n",
              "      border: none;\n",
              "      border-radius: 50%;\n",
              "      cursor: pointer;\n",
              "      display: none;\n",
              "      fill: #1967D2;\n",
              "      height: 32px;\n",
              "      padding: 0 0 0 0;\n",
              "      width: 32px;\n",
              "    }\n",
              "\n",
              "    .colab-df-convert:hover {\n",
              "      background-color: #E2EBFA;\n",
              "      box-shadow: 0px 1px 2px rgba(60, 64, 67, 0.3), 0px 1px 3px 1px rgba(60, 64, 67, 0.15);\n",
              "      fill: #174EA6;\n",
              "    }\n",
              "\n",
              "    .colab-df-buttons div {\n",
              "      margin-bottom: 4px;\n",
              "    }\n",
              "\n",
              "    [theme=dark] .colab-df-convert {\n",
              "      background-color: #3B4455;\n",
              "      fill: #D2E3FC;\n",
              "    }\n",
              "\n",
              "    [theme=dark] .colab-df-convert:hover {\n",
              "      background-color: #434B5C;\n",
              "      box-shadow: 0px 1px 3px 1px rgba(0, 0, 0, 0.15);\n",
              "      filter: drop-shadow(0px 1px 2px rgba(0, 0, 0, 0.3));\n",
              "      fill: #FFFFFF;\n",
              "    }\n",
              "  </style>\n",
              "\n",
              "    <script>\n",
              "      const buttonEl =\n",
              "        document.querySelector('#df-3da72d7c-c539-4be0-9187-7ad716fe37a9 button.colab-df-convert');\n",
              "      buttonEl.style.display =\n",
              "        google.colab.kernel.accessAllowed ? 'block' : 'none';\n",
              "\n",
              "      async function convertToInteractive(key) {\n",
              "        const element = document.querySelector('#df-3da72d7c-c539-4be0-9187-7ad716fe37a9');\n",
              "        const dataTable =\n",
              "          await google.colab.kernel.invokeFunction('convertToInteractive',\n",
              "                                                    [key], {});\n",
              "        if (!dataTable) return;\n",
              "\n",
              "        const docLinkHtml = 'Like what you see? Visit the ' +\n",
              "          '<a target=\"_blank\" href=https://colab.research.google.com/notebooks/data_table.ipynb>data table notebook</a>'\n",
              "          + ' to learn more about interactive tables.';\n",
              "        element.innerHTML = '';\n",
              "        dataTable['output_type'] = 'display_data';\n",
              "        await google.colab.output.renderOutput(dataTable, element);\n",
              "        const docLink = document.createElement('div');\n",
              "        docLink.innerHTML = docLinkHtml;\n",
              "        element.appendChild(docLink);\n",
              "      }\n",
              "    </script>\n",
              "  </div>\n",
              "\n",
              "\n",
              "<div id=\"df-e4731d9e-9240-42b7-aa52-3640ac81b2dc\">\n",
              "  <button class=\"colab-df-quickchart\" onclick=\"quickchart('df-e4731d9e-9240-42b7-aa52-3640ac81b2dc')\"\n",
              "            title=\"Suggest charts\"\n",
              "            style=\"display:none;\">\n",
              "\n",
              "<svg xmlns=\"http://www.w3.org/2000/svg\" height=\"24px\"viewBox=\"0 0 24 24\"\n",
              "     width=\"24px\">\n",
              "    <g>\n",
              "        <path d=\"M19 3H5c-1.1 0-2 .9-2 2v14c0 1.1.9 2 2 2h14c1.1 0 2-.9 2-2V5c0-1.1-.9-2-2-2zM9 17H7v-7h2v7zm4 0h-2V7h2v10zm4 0h-2v-4h2v4z\"/>\n",
              "    </g>\n",
              "</svg>\n",
              "  </button>\n",
              "\n",
              "<style>\n",
              "  .colab-df-quickchart {\n",
              "      --bg-color: #E8F0FE;\n",
              "      --fill-color: #1967D2;\n",
              "      --hover-bg-color: #E2EBFA;\n",
              "      --hover-fill-color: #174EA6;\n",
              "      --disabled-fill-color: #AAA;\n",
              "      --disabled-bg-color: #DDD;\n",
              "  }\n",
              "\n",
              "  [theme=dark] .colab-df-quickchart {\n",
              "      --bg-color: #3B4455;\n",
              "      --fill-color: #D2E3FC;\n",
              "      --hover-bg-color: #434B5C;\n",
              "      --hover-fill-color: #FFFFFF;\n",
              "      --disabled-bg-color: #3B4455;\n",
              "      --disabled-fill-color: #666;\n",
              "  }\n",
              "\n",
              "  .colab-df-quickchart {\n",
              "    background-color: var(--bg-color);\n",
              "    border: none;\n",
              "    border-radius: 50%;\n",
              "    cursor: pointer;\n",
              "    display: none;\n",
              "    fill: var(--fill-color);\n",
              "    height: 32px;\n",
              "    padding: 0;\n",
              "    width: 32px;\n",
              "  }\n",
              "\n",
              "  .colab-df-quickchart:hover {\n",
              "    background-color: var(--hover-bg-color);\n",
              "    box-shadow: 0 1px 2px rgba(60, 64, 67, 0.3), 0 1px 3px 1px rgba(60, 64, 67, 0.15);\n",
              "    fill: var(--button-hover-fill-color);\n",
              "  }\n",
              "\n",
              "  .colab-df-quickchart-complete:disabled,\n",
              "  .colab-df-quickchart-complete:disabled:hover {\n",
              "    background-color: var(--disabled-bg-color);\n",
              "    fill: var(--disabled-fill-color);\n",
              "    box-shadow: none;\n",
              "  }\n",
              "\n",
              "  .colab-df-spinner {\n",
              "    border: 2px solid var(--fill-color);\n",
              "    border-color: transparent;\n",
              "    border-bottom-color: var(--fill-color);\n",
              "    animation:\n",
              "      spin 1s steps(1) infinite;\n",
              "  }\n",
              "\n",
              "  @keyframes spin {\n",
              "    0% {\n",
              "      border-color: transparent;\n",
              "      border-bottom-color: var(--fill-color);\n",
              "      border-left-color: var(--fill-color);\n",
              "    }\n",
              "    20% {\n",
              "      border-color: transparent;\n",
              "      border-left-color: var(--fill-color);\n",
              "      border-top-color: var(--fill-color);\n",
              "    }\n",
              "    30% {\n",
              "      border-color: transparent;\n",
              "      border-left-color: var(--fill-color);\n",
              "      border-top-color: var(--fill-color);\n",
              "      border-right-color: var(--fill-color);\n",
              "    }\n",
              "    40% {\n",
              "      border-color: transparent;\n",
              "      border-right-color: var(--fill-color);\n",
              "      border-top-color: var(--fill-color);\n",
              "    }\n",
              "    60% {\n",
              "      border-color: transparent;\n",
              "      border-right-color: var(--fill-color);\n",
              "    }\n",
              "    80% {\n",
              "      border-color: transparent;\n",
              "      border-right-color: var(--fill-color);\n",
              "      border-bottom-color: var(--fill-color);\n",
              "    }\n",
              "    90% {\n",
              "      border-color: transparent;\n",
              "      border-bottom-color: var(--fill-color);\n",
              "    }\n",
              "  }\n",
              "</style>\n",
              "\n",
              "  <script>\n",
              "    async function quickchart(key) {\n",
              "      const quickchartButtonEl =\n",
              "        document.querySelector('#' + key + ' button');\n",
              "      quickchartButtonEl.disabled = true;  // To prevent multiple clicks.\n",
              "      quickchartButtonEl.classList.add('colab-df-spinner');\n",
              "      try {\n",
              "        const charts = await google.colab.kernel.invokeFunction(\n",
              "            'suggestCharts', [key], {});\n",
              "      } catch (error) {\n",
              "        console.error('Error during call to suggestCharts:', error);\n",
              "      }\n",
              "      quickchartButtonEl.classList.remove('colab-df-spinner');\n",
              "      quickchartButtonEl.classList.add('colab-df-quickchart-complete');\n",
              "    }\n",
              "    (() => {\n",
              "      let quickchartButtonEl =\n",
              "        document.querySelector('#df-e4731d9e-9240-42b7-aa52-3640ac81b2dc button');\n",
              "      quickchartButtonEl.style.display =\n",
              "        google.colab.kernel.accessAllowed ? 'block' : 'none';\n",
              "    })();\n",
              "  </script>\n",
              "</div>\n",
              "\n",
              "    </div>\n",
              "  </div>\n"
            ],
            "application/vnd.google.colaboratory.intrinsic+json": {
              "type": "dataframe",
              "summary": "{\n  \"name\": \"tsla[\\\"High\\\"]\",\n  \"rows\": 503,\n  \"fields\": [\n    {\n      \"column\": \"Date\",\n      \"properties\": {\n        \"dtype\": \"date\",\n        \"min\": \"2018-01-02 00:00:00\",\n        \"max\": \"2019-12-31 00:00:00\",\n        \"num_unique_values\": 503,\n        \"samples\": [\n          \"2019-01-28 00:00:00\",\n          \"2018-04-18 00:00:00\",\n          \"2019-02-27 00:00:00\"\n        ],\n        \"semantic_type\": \"\",\n        \"description\": \"\"\n      }\n    },\n    {\n      \"column\": \"AMZN\",\n      \"properties\": {\n        \"dtype\": \"number\",\n        \"std\": 8.572441566382453,\n        \"min\": 59.5,\n        \"max\": 102.5250015258789,\n        \"num_unique_values\": 495,\n        \"samples\": [\n          89.87249755859375,\n          76.69000244140625,\n          91.0\n        ],\n        \"semantic_type\": \"\",\n        \"description\": \"\"\n      }\n    }\n  ]\n}"
            }
          },
          "metadata": {},
          "execution_count": 24
        }
      ]
    }
  ]
}