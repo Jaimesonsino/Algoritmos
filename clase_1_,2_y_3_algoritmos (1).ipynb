{
  "nbformat": 4,
  "nbformat_minor": 0,
  "metadata": {
    "colab": {
      "provenance": []
    },
    "kernelspec": {
      "name": "python3",
      "display_name": "Python 3"
    },
    "language_info": {
      "name": "python"
    }
  },
  "cells": [
    {
      "cell_type": "code",
      "execution_count": 13,
      "metadata": {
        "id": "4qrnv4hgV3tW",
        "colab": {
          "base_uri": "https://localhost:8080/",
          "height": 106
        },
        "outputId": "058db2d3-a735-4fd5-b02c-c7ac8240b941"
      },
      "outputs": [
        {
          "output_type": "error",
          "ename": "SyntaxError",
          "evalue": "invalid character '¿' (U+00BF) (<ipython-input-13-8ae5220b0f01>, line 18)",
          "traceback": [
            "\u001b[0;36m  File \u001b[0;32m\"<ipython-input-13-8ae5220b0f01>\"\u001b[0;36m, line \u001b[0;32m18\u001b[0m\n\u001b[0;31m    **¿Por qué aprender Python?**\u001b[0m\n\u001b[0m      ^\u001b[0m\n\u001b[0;31mSyntaxError\u001b[0m\u001b[0;31m:\u001b[0m invalid character '¿' (U+00BF)\n"
          ]
        }
      ],
      "source": [
        "# prompt: soy estudiante y estoy amprendiendo python. dime que es\n",
        "\n",
        "Python es un lenguaje de programación de alto nivel, interpretado, interactivo y orientado a objetos.  Es conocido por su sintaxis clara y legible, lo que lo hace ideal para principiantes.  Pero no te dejes engañar por su aparente simplicidad, Python es un lenguaje poderoso usado en una amplia variedad de aplicaciones, incluyendo:\n",
        "\n",
        "* **Desarrollo web:**  Python se usa para crear servidores web, aplicaciones web y sitios web.  Frameworks populares como Django y Flask facilitan el desarrollo web con Python.\n",
        "\n",
        "* **Ciencia de datos y Machine Learning:**  Python es el lenguaje dominante en ciencia de datos gracias a librerías como NumPy, Pandas, Scikit-learn y TensorFlow.  Estas herramientas permiten el análisis de datos, la visualización y la creación de modelos de aprendizaje automático.\n",
        "\n",
        "* **Automatización de tareas:**  Python es excelente para automatizar tareas repetitivas en tu computadora, como renombrar archivos en masa, procesar datos o interactuar con otros programas.\n",
        "\n",
        "* **Desarrollo de juegos:**  Aunque no es tan popular como otros lenguajes para juegos, Python se usa para desarrollar juegos, especialmente prototipos o juegos más simples.\n",
        "\n",
        "* **Scripting:** Python puede usarse para crear scripts que realicen una variedad de tareas, desde automatización de sistemas hasta procesamiento de texto.\n",
        "\n",
        "* **Desarrollo de aplicaciones de escritorio:**  Python permite crear aplicaciones con interfaz gráfica de usuario (GUI). Librerías como Tkinter, PyQt y Kivy facilitan este tipo de desarrollo.\n",
        "\n",
        "\n",
        "**¿Por qué aprender Python?**\n",
        "\n",
        "* **Fácil de aprender:** Su sintaxis es similar al idioma inglés, lo que lo hace más fácil de leer y escribir que otros lenguajes.\n",
        "* **Gran comunidad:**  Hay una enorme comunidad de desarrolladores de Python que te pueden ayudar si tienes problemas o dudas.  Encuentras mucha documentación, tutoriales y foros online.\n",
        "* **Mucha demanda:** La demanda de desarrolladores de Python es alta en el mercado laboral.\n",
        "* **Versatilidad:**  Puedes usar Python para una gran variedad de proyectos.\n",
        "\n",
        "**Para empezar:**\n",
        "\n",
        "Te recomiendo buscar tutoriales en línea, como los de Codecademy, Google's Python Class, o seguir cursos en plataformas como Coursera o edX.  También puedes descargar un intérprete de Python (Python 3 recomendado) y empezar a experimentar con el lenguaje desde tu computadora.  ¡No tengas miedo de probar y experimentar!  La mejor manera de aprender a programar es programando.\n",
        "\n",
        "¡Mucha suerte en tu aprendizaje!\n",
        "---\n",
        "\n"
      ]
    },
    {
      "cell_type": "markdown",
      "source": [
        "### Algunos objetos en Python\n",
        "### Números y strings\n",
        "\n",
        "\n",
        "*   int, float\n",
        "*   str\n",
        "\n",
        "Nota: Es posible escribir Latex\n",
        "La siguinete integral es de gran importancia\n",
        "$$\\int_{-∞}^{∞}e^{-\\frac{x^2}{2}}dx=\\sqrt{2\\pi}$$\n",
        "\n",
        "\n",
        "\n",
        "Operaciones básicas entre números\n",
        "\n",
        "1.   -$+,-$\n",
        "2.   -$*,**$\n",
        "3. $-/,//$\n",
        "4. $\\%$\n",
        "\n",
        "\n",
        "**texto en negrita**\n",
        "\n"
      ],
      "metadata": {
        "id": "nsIIa-C6pl0l"
      }
    },
    {
      "cell_type": "markdown",
      "source": [
        "Introduccióna a Python"
      ],
      "metadata": {
        "id": "8wjGToVNpAKQ"
      }
    },
    {
      "cell_type": "code",
      "source": [
        "5*65\n",
        "\n"
      ],
      "metadata": {
        "colab": {
          "base_uri": "https://localhost:8080/"
        },
        "id": "HHV1T3pVvbW3",
        "outputId": "c6a76270-9554-442a-c135-5ec101d6d2d7"
      },
      "execution_count": 14,
      "outputs": [
        {
          "output_type": "execute_result",
          "data": {
            "text/plain": [
              "325"
            ]
          },
          "metadata": {},
          "execution_count": 14
        }
      ]
    },
    {
      "cell_type": "markdown",
      "source": [
        "## Listas\n",
        "Una lista es un objeto de la forma:\n",
        "$$ \\text{Lista}={e_1,e_2,...;e_n}$$\n",
        "Cada elemento puede ser, a su vez, un objeto."
      ],
      "metadata": {
        "id": "wq1UUJmAV0oB"
      }
    },
    {
      "cell_type": "code",
      "source": [
        "# Vamos a crear una lista\n",
        "Lista_1=[7, 7.7, \"victoria\", {1,2,3}]\n",
        "\n"
      ],
      "metadata": {
        "id": "JIPZJ4asXEfw"
      },
      "execution_count": 15,
      "outputs": []
    },
    {
      "cell_type": "code",
      "source": [
        "type(Lista_1)"
      ],
      "metadata": {
        "colab": {
          "base_uri": "https://localhost:8080/"
        },
        "id": "SAZypb3-YXhu",
        "outputId": "1045cb30-3fd5-4198-f786-6ed3bbf48466"
      },
      "execution_count": 16,
      "outputs": [
        {
          "output_type": "execute_result",
          "data": {
            "text/plain": [
              "list"
            ]
          },
          "metadata": {},
          "execution_count": 16
        }
      ]
    },
    {
      "cell_type": "code",
      "source": [],
      "metadata": {
        "id": "LdOXxGNYZGNz"
      },
      "execution_count": 16,
      "outputs": []
    },
    {
      "cell_type": "markdown",
      "source": [
        "### Etiquetas en Python\n",
        "En Python existe una función que se llama range(a,b) en donde $a$ y $b$ son enteros mayores o iguales a 0. Aquí, $a<b$.\n",
        "\n"
      ],
      "metadata": {
        "id": "vfZNIbqXZYSy"
      }
    },
    {
      "cell_type": "code",
      "source": [
        "type(range(57)) # GEnerador de índices (o etiquetas)"
      ],
      "metadata": {
        "colab": {
          "base_uri": "https://localhost:8080/"
        },
        "id": "3p_66bm8aYq9",
        "outputId": "975cd878-69d7-4050-bc56-bf2980310671"
      },
      "execution_count": 17,
      "outputs": [
        {
          "output_type": "execute_result",
          "data": {
            "text/plain": [
              "range"
            ]
          },
          "metadata": {},
          "execution_count": 17
        }
      ]
    },
    {
      "cell_type": "code",
      "source": [
        "for i in range(57):\n",
        " print(i)"
      ],
      "metadata": {
        "colab": {
          "base_uri": "https://localhost:8080/"
        },
        "id": "tYZtZm3SbVSG",
        "outputId": "ffe2ea2f-d1a0-4e7c-ca26-0e0ef3ff1ddb"
      },
      "execution_count": 18,
      "outputs": [
        {
          "output_type": "stream",
          "name": "stdout",
          "text": [
            "0\n",
            "1\n",
            "2\n",
            "3\n",
            "4\n",
            "5\n",
            "6\n",
            "7\n",
            "8\n",
            "9\n",
            "10\n",
            "11\n",
            "12\n",
            "13\n",
            "14\n",
            "15\n",
            "16\n",
            "17\n",
            "18\n",
            "19\n",
            "20\n",
            "21\n",
            "22\n",
            "23\n",
            "24\n",
            "25\n",
            "26\n",
            "27\n",
            "28\n",
            "29\n",
            "30\n",
            "31\n",
            "32\n",
            "33\n",
            "34\n",
            "35\n",
            "36\n",
            "37\n",
            "38\n",
            "39\n",
            "40\n",
            "41\n",
            "42\n",
            "43\n",
            "44\n",
            "45\n",
            "46\n",
            "47\n",
            "48\n",
            "49\n",
            "50\n",
            "51\n",
            "52\n",
            "53\n",
            "54\n",
            "55\n",
            "56\n"
          ]
        }
      ]
    },
    {
      "cell_type": "code",
      "source": [
        "len(Lista_1) # La función len(variable)encuenta el número de elementos que hay"
      ],
      "metadata": {
        "colab": {
          "base_uri": "https://localhost:8080/"
        },
        "id": "5bDWm1eLguCK",
        "outputId": "734fa9f4-fe4b-46fd-8570-ae5841c89416"
      },
      "execution_count": 19,
      "outputs": [
        {
          "output_type": "execute_result",
          "data": {
            "text/plain": [
              "4"
            ]
          },
          "metadata": {},
          "execution_count": 19
        }
      ]
    },
    {
      "cell_type": "code",
      "source": [
        "Lista_1[3], type(Lista_1[3])\n"
      ],
      "metadata": {
        "colab": {
          "base_uri": "https://localhost:8080/"
        },
        "id": "BADb_aTchkzl",
        "outputId": "b20a6003-2fcb-4596-ace0-d871f5cbcf73"
      },
      "execution_count": 20,
      "outputs": [
        {
          "output_type": "execute_result",
          "data": {
            "text/plain": [
              "({1, 2, 3}, set)"
            ]
          },
          "metadata": {},
          "execution_count": 20
        }
      ]
    },
    {
      "cell_type": "code",
      "source": [
        "Lista_1[0:3], type(Lista_1[0:3])"
      ],
      "metadata": {
        "colab": {
          "base_uri": "https://localhost:8080/"
        },
        "id": "N2vGB_jnieZg",
        "outputId": "4a15cbf0-4683-47a3-b2d4-2a9b6015ab80"
      },
      "execution_count": 21,
      "outputs": [
        {
          "output_type": "execute_result",
          "data": {
            "text/plain": [
              "([7, 7.7, 'victoria'], list)"
            ]
          },
          "metadata": {},
          "execution_count": 21
        }
      ]
    },
    {
      "cell_type": "code",
      "source": [
        "type (Lista_1[3])"
      ],
      "metadata": {
        "colab": {
          "base_uri": "https://localhost:8080/"
        },
        "id": "m5XQUly5q-dh",
        "outputId": "d00ee4fa-3bf4-4b7c-9ce7-7b0f74ea43d3"
      },
      "execution_count": 22,
      "outputs": [
        {
          "output_type": "execute_result",
          "data": {
            "text/plain": [
              "set"
            ]
          },
          "metadata": {},
          "execution_count": 22
        }
      ]
    },
    {
      "cell_type": "markdown",
      "source": [
        "Algunos atributos de las listas"
      ],
      "metadata": {
        "id": "KLm2rXjnt1sR"
      }
    },
    {
      "cell_type": "code",
      "source": [
        "Lista_1.append(\"Estela\")"
      ],
      "metadata": {
        "id": "GeZVstSxt6Hx"
      },
      "execution_count": 35,
      "outputs": []
    },
    {
      "cell_type": "code",
      "source": [
        "Lista_1"
      ],
      "metadata": {
        "colab": {
          "base_uri": "https://localhost:8080/"
        },
        "id": "jm59yYHIumZG",
        "outputId": "cd99b0e0-1e50-4a6a-eda1-e21156e81d88"
      },
      "execution_count": 36,
      "outputs": [
        {
          "output_type": "execute_result",
          "data": {
            "text/plain": [
              "[7.7, 'victoria', {1, 2, 3}, 'Estela', 'Estela']"
            ]
          },
          "metadata": {},
          "execution_count": 36
        }
      ]
    },
    {
      "cell_type": "code",
      "source": [
        "# Lista_1.remove(\"Estela\")"
      ],
      "metadata": {
        "id": "ncSU8txwvMbD"
      },
      "execution_count": 55,
      "outputs": []
    },
    {
      "cell_type": "markdown",
      "source": [
        "# $x\\in R$"
      ],
      "metadata": {
        "id": "_2LH8SDewfs3"
      }
    },
    {
      "cell_type": "code",
      "source": [
        "# La lista de indices\n",
        "L = [x for x in range(21)]"
      ],
      "metadata": {
        "id": "p_zLrxlKxQ9Y"
      },
      "execution_count": 56,
      "outputs": []
    },
    {
      "cell_type": "code",
      "source": [
        "# Los multiplos de 3\n",
        "M =[x for x in range(21) if x/3==0]"
      ],
      "metadata": {
        "id": "jxqxqwPAy_3i"
      },
      "execution_count": 45,
      "outputs": []
    },
    {
      "cell_type": "code",
      "source": [
        "#Corta la lista\n",
        "L = list(range(0, 6))"
      ],
      "metadata": {
        "id": "zgdC2l9VzMxk"
      },
      "execution_count": 47,
      "outputs": []
    },
    {
      "cell_type": "code",
      "source": [
        "# Te arroja exptremos de la listra\n",
        "L = L[0::20]"
      ],
      "metadata": {
        "id": "xAYov0W7zXr2"
      },
      "execution_count": 57,
      "outputs": []
    }
  ]
}