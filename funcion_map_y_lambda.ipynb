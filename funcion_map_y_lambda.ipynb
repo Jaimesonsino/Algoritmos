{
  "nbformat": 4,
  "nbformat_minor": 0,
  "metadata": {
    "colab": {
      "provenance": []
    },
    "kernelspec": {
      "name": "python3",
      "display_name": "Python 3"
    },
    "language_info": {
      "name": "python"
    }
  },
  "cells": [
    {
      "cell_type": "code",
      "execution_count": null,
      "metadata": {
        "id": "XNn93hVQwYrr"
      },
      "outputs": [],
      "source": []
    },
    {
      "cell_type": "markdown",
      "source": [
        "**Funcion MAP**\n",
        "\n",
        "[Funcion MAP](https://docs.python.org/3/library/functions.html#map)\n"
      ],
      "metadata": {
        "id": "Dwwrg3tUwaUV"
      }
    },
    {
      "cell_type": "code",
      "source": [
        "I=[1,2,3,4]\n",
        "\n",
        "z = lambda x: x**4\n",
        "res = list(map(z, I))\n",
        "print(res)"
      ],
      "metadata": {
        "colab": {
          "base_uri": "https://localhost:8080/"
        },
        "id": "eVj3k2UD25P-",
        "outputId": "95e068b9-1a2a-45b4-dce5-fd3a60421635"
      },
      "execution_count": 3,
      "outputs": [
        {
          "output_type": "stream",
          "name": "stdout",
          "text": [
            "[1, 16, 81, 256]\n"
          ]
        }
      ]
    },
    {
      "cell_type": "code",
      "source": [
        "list(map(lambda x: x**2, I))"
      ],
      "metadata": {
        "colab": {
          "base_uri": "https://localhost:8080/"
        },
        "id": "IYG0jwd-3G5H",
        "outputId": "ae8e44d4-e846-48b5-9b8c-d3c7b20e12ef"
      },
      "execution_count": 4,
      "outputs": [
        {
          "output_type": "execute_result",
          "data": {
            "text/plain": [
              "[1, 4, 9, 16]"
            ]
          },
          "metadata": {},
          "execution_count": 4
        }
      ]
    },
    {
      "cell_type": "code",
      "source": [
        "# prompt: haz 5 ejemplos sencillos de lambda\n",
        "\n",
        "# Ejemplo 1: Duplicar un número\n",
        "duplicar = lambda x: x * 2\n",
        "print(duplicar(5))  # Salida: 10\n",
        "\n",
        "# Ejemplo 2: Sumar dos números\n",
        "sumar = lambda x, y: x + y\n",
        "print(sumar(3, 7))  # Salida: 10\n",
        "\n",
        "# Ejemplo 3: Verificar si un número es par\n",
        "es_par = lambda x: x % 2 == 0\n",
        "print(es_par(4))  # Salida: True\n",
        "print(es_par(7))  # Salida: False\n",
        "\n",
        "# Ejemplo 4: Convertir una cadena a mayúsculas\n",
        "a_mayusculas = lambda s: s.upper()\n",
        "print(a_mayusculas(\"hola\"))  # Salida: HOLA\n",
        "\n",
        "# Ejemplo 5: Obtener el primer elemento de una lista\n",
        "primer_elemento = lambda lista: lista[0] if lista else None  # Manejo de listas vacías\n",
        "print(primer_elemento([1, 2, 3]))  # Salida: 1\n",
        "print(primer_elemento([]))  # Salida: None\n"
      ],
      "metadata": {
        "colab": {
          "base_uri": "https://localhost:8080/"
        },
        "id": "ePck7BqU3Mrc",
        "outputId": "683d9f63-672b-4363-d8e7-f402d176f321"
      },
      "execution_count": 5,
      "outputs": [
        {
          "output_type": "stream",
          "name": "stdout",
          "text": [
            "10\n",
            "10\n",
            "True\n",
            "False\n",
            "HOLA\n",
            "1\n",
            "None\n"
          ]
        }
      ]
    }
  ]
}